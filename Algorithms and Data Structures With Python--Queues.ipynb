{
 "cells": [
  {
   "cell_type": "markdown",
   "metadata": {},
   "source": [
    "A queue holds the oldest item at the front. The principle is first-in-first-out (FIFO). Just like when you enter in a line at a supermarket. For both queues and stacks, one needs to know the rear and front position. The point of entry and exit are different in queues than the one in stacks.\n",
    "\n",
    "Main functions:\n",
    "\n",
    "(1) enqueue:  adding an element to the queue--queue increases by one\n",
    "\n",
    "(2) dequeue: removing an element from the queue--queue decreases by one."
   ]
  },
  {
   "cell_type": "markdown",
   "metadata": {},
   "source": [
    "# Using the Related Python Library"
   ]
  },
  {
   "cell_type": "code",
   "execution_count": 70,
   "metadata": {},
   "outputs": [
    {
     "name": "stdout",
     "output_type": "stream",
     "text": [
      "deque([200, 400, 500, 17])\n"
     ]
    }
   ],
   "source": [
    "from collections import deque\n",
    "#Creating a Queue\n",
    "queue = deque([100,200,400,500])\n",
    "# Adding elements to the Queue\n",
    "queue.append(17)\n",
    "#Remove elements\n",
    "queue.popleft()# first in first out\n",
    "print(queue)"
   ]
  },
  {
   "cell_type": "markdown",
   "metadata": {},
   "source": [
    "# Using Class Implementation:"
   ]
  },
  {
   "cell_type": "code",
   "execution_count": 71,
   "metadata": {},
   "outputs": [],
   "source": [
    "class Queue:\n",
    "    def __init__(self):\n",
    "        self.items = [] # the queue is empty when we created\n",
    "        self.size = 0\n",
    "        \n",
    "    def enqueue(self, data):\n",
    "        self.items.insert(0, data) # uses the insert method of the list class to insert items\n",
    "        self.size += 1\n",
    "        \n",
    "    def dequeue(self):\n",
    "        data = self.items.pop() # pop() from the list class removes the last item and returns the removed item\n",
    "        self.size -= 1\n",
    "        return data"
   ]
  },
  {
   "cell_type": "code",
   "execution_count": 72,
   "metadata": {},
   "outputs": [
    {
     "data": {
      "text/plain": [
       "100"
      ]
     },
     "execution_count": 72,
     "metadata": {},
     "output_type": "execute_result"
    }
   ],
   "source": [
    "a=Queue()\n",
    "a.enqueue(100)\n",
    "a.enqueue(200)\n",
    "a.enqueue(400)\n",
    "a.enqueue(500)\n",
    "a.enqueue(17)\n",
    "a.dequeue()"
   ]
  },
  {
   "cell_type": "code",
   "execution_count": 73,
   "metadata": {},
   "outputs": [
    {
     "name": "stdout",
     "output_type": "stream",
     "text": [
      "[17, 500, 400, 200]\n"
     ]
    }
   ],
   "source": [
    "print(a.items)"
   ]
  },
  {
   "cell_type": "code",
   "execution_count": 74,
   "metadata": {},
   "outputs": [
    {
     "name": "stdout",
     "output_type": "stream",
     "text": [
      "4\n"
     ]
    }
   ],
   "source": [
    "print(a.size)"
   ]
  }
 ],
 "metadata": {
  "kernelspec": {
   "display_name": "Python 3",
   "language": "python",
   "name": "python3"
  },
  "language_info": {
   "codemirror_mode": {
    "name": "ipython",
    "version": 3
   },
   "file_extension": ".py",
   "mimetype": "text/x-python",
   "name": "python",
   "nbconvert_exporter": "python",
   "pygments_lexer": "ipython3",
   "version": "3.7.0"
  }
 },
 "nbformat": 4,
 "nbformat_minor": 2
}
