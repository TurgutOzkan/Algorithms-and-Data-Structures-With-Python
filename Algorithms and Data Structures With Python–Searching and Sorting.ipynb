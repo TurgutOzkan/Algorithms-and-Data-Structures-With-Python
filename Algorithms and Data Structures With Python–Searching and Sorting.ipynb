{
 "cells": [
  {
   "cell_type": "markdown",
   "metadata": {},
   "source": [
    "# Unsorted Liner Search"
   ]
  },
  {
   "cell_type": "code",
   "execution_count": 3,
   "metadata": {},
   "outputs": [],
   "source": [
    "def Linear_search(a_list, item):\n",
    "    for i in range(len(a_list)):\n",
    "        if item == a_list[i]:\n",
    "            return \"Index position of the item is:\", i\n",
    "    return \"The item is not in the list\""
   ]
  },
  {
   "cell_type": "code",
   "execution_count": 4,
   "metadata": {},
   "outputs": [
    {
     "data": {
      "text/plain": [
       "('Index position of the item is:', 3)"
      ]
     },
     "execution_count": 4,
     "metadata": {},
     "output_type": "execute_result"
    }
   ],
   "source": [
    "A =[2, 56, 89, 21, 0, 5, 100]\n",
    "Linear_search(A,21)"
   ]
  },
  {
   "cell_type": "markdown",
   "metadata": {},
   "source": [
    "# Sorted Linear Search"
   ]
  },
  {
   "cell_type": "code",
   "execution_count": 5,
   "metadata": {},
   "outputs": [],
   "source": [
    "def Sorted_Linear_search(sorted_list, item):\n",
    "    for i in range(len(sorted_list)):\n",
    "        if item == sorted_list[i]:\n",
    "            return \"Index position of the item is:\", i\n",
    "        elif sorted_list[i] > item:\n",
    "            return \"The item is not in the list\"\n",
    "    return \"The item is not in the list\""
   ]
  },
  {
   "cell_type": "code",
   "execution_count": 6,
   "metadata": {},
   "outputs": [],
   "source": [
    "B=[0, 2, 5, 21, 56, 89, 100]"
   ]
  },
  {
   "cell_type": "code",
   "execution_count": 7,
   "metadata": {},
   "outputs": [
    {
     "data": {
      "text/plain": [
       "'The item is not in the list'"
      ]
     },
     "execution_count": 7,
     "metadata": {},
     "output_type": "execute_result"
    }
   ],
   "source": [
    "Sorted_Linear_search(B, 101)"
   ]
  },
  {
   "cell_type": "code",
   "execution_count": 8,
   "metadata": {},
   "outputs": [
    {
     "data": {
      "text/plain": [
       "('Index position of the item is:', 3)"
      ]
     },
     "execution_count": 8,
     "metadata": {},
     "output_type": "execute_result"
    }
   ],
   "source": [
    "Sorted_Linear_search(B, 21)"
   ]
  },
  {
   "cell_type": "markdown",
   "metadata": {},
   "source": [
    "# Binary search"
   ]
  },
  {
   "cell_type": "code",
   "execution_count": 9,
   "metadata": {},
   "outputs": [],
   "source": [
    "def binary_search(sorted_list, item):\n",
    "    first_element_index = 0\n",
    "    last_element_index = len(sorted_list) - 1\n",
    "    while first_element_index <= last_element_index:\n",
    "        mid_point = (first_element_index + last_element_index)//2\n",
    "        if sorted_list[mid_point] == item:\n",
    "            return mid_point\n",
    "        if item > sorted_list[mid_point]:\n",
    "            first_element_index = mid_point + 1\n",
    "        else:\n",
    "            last_element_index = mid_point - 1\n",
    "    if first_element_index > last_element_index:\n",
    "        return \"Not Found\""
   ]
  },
  {
   "cell_type": "code",
   "execution_count": 10,
   "metadata": {},
   "outputs": [
    {
     "data": {
      "text/plain": [
       "0"
      ]
     },
     "execution_count": 10,
     "metadata": {},
     "output_type": "execute_result"
    }
   ],
   "source": [
    "binary_search(B,0)"
   ]
  },
  {
   "cell_type": "code",
   "execution_count": 12,
   "metadata": {},
   "outputs": [
    {
     "data": {
      "text/plain": [
       "4"
      ]
     },
     "execution_count": 12,
     "metadata": {},
     "output_type": "execute_result"
    }
   ],
   "source": [
    "binary_search(B,56)"
   ]
  },
  {
   "cell_type": "code",
   "execution_count": 13,
   "metadata": {},
   "outputs": [
    {
     "data": {
      "text/plain": [
       "'Not Found'"
      ]
     },
     "execution_count": 13,
     "metadata": {},
     "output_type": "execute_result"
    }
   ],
   "source": [
    "binary_search(B,101)"
   ]
  },
  {
   "cell_type": "markdown",
   "metadata": {},
   "source": [
    "# Bubble sort"
   ]
  },
  {
   "cell_type": "markdown",
   "metadata": {},
   "source": [
    "In this sorting method, compare adjacent elements in the list, each time checking only two elements. Bubble sort is an inefficient sorting algorithm with a time complexity of O(n2) and O(n), worst and best case respectively."
   ]
  },
  {
   "cell_type": "code",
   "execution_count": 21,
   "metadata": {},
   "outputs": [],
   "source": [
    "def BubbleSort(a_given_array):\n",
    "    n = len(a_given_array)\n",
    "    for i in range(n): # loop through all items in the array     \n",
    "        for j in range(0, n-i-1):\n",
    "            if a_given_array[j] > a_given_array[j+1] :\n",
    "                a_given_array[j], a_given_array[j+1] = a_given_array[j+1], a_given_array[j] # Swap if the item is greater\n",
    "    return a_given_array"
   ]
  },
  {
   "cell_type": "code",
   "execution_count": 22,
   "metadata": {},
   "outputs": [
    {
     "data": {
      "text/plain": [
       "[3, 5, 13, 14]"
      ]
     },
     "execution_count": 22,
     "metadata": {},
     "output_type": "execute_result"
    }
   ],
   "source": [
    "a_list=[5,14,3,13]\n",
    "BubbleSort(a_list)"
   ]
  },
  {
   "cell_type": "markdown",
   "metadata": {},
   "source": [
    "# Insertion sort"
   ]
  },
  {
   "cell_type": "markdown",
   "metadata": {},
   "source": [
    "We assume that a certain portion of the list has already been sorted. Then, we go through remaining portion of the list,\n",
    "picking one item at a time. With this element, we go through the sorted portion of the list and insert it in the appropriate\n",
    "position so the sorted portion remains sorted.\n"
   ]
  },
  {
   "cell_type": "code",
   "execution_count": 23,
   "metadata": {},
   "outputs": [],
   "source": [
    "def insertionSort(array):\n",
    "    for i in range(1,len(array)): # we are assuming that position 0 is sorted.\n",
    "        current = array[i]\n",
    "        position = i\n",
    "        \n",
    "        while position > 0 and array[position-1] > current:\n",
    "            array[position]=array[position-1] # shifting\n",
    "            position = position-1\n",
    "\n",
    "        array[position]=current"
   ]
  },
  {
   "cell_type": "code",
   "execution_count": 24,
   "metadata": {},
   "outputs": [
    {
     "name": "stdout",
     "output_type": "stream",
     "text": [
      "[3, 4, 14, 17, 19, 50, 66, 137, 193]\n"
     ]
    }
   ],
   "source": [
    "array = [14,66,193,17,137,3,4,50,19]\n",
    "insertionSort(array)\n",
    "print(array)"
   ]
  },
  {
   "cell_type": "markdown",
   "metadata": {},
   "source": [
    "# Selection sort"
   ]
  },
  {
   "cell_type": "markdown",
   "metadata": {},
   "source": [
    "The selection sort focuses on making only one exchange for every pass through the list, which is a betterment in comparison to bubble sort. Selection sort searches for the largest item in a pass and put the item in a suitable position after the pass. So, on each pass, the largest remaining element is placed in a suitable position. This feature seems similar to Bubble Sort's placing the maximum value to the end of the list."
   ]
  },
  {
   "cell_type": "code",
   "execution_count": 25,
   "metadata": {},
   "outputs": [],
   "source": [
    "def selectionSort(array):\n",
    "    for i in range(len(array)-1,0,-1):\n",
    "        Max_position=0\n",
    "        for k in range(1,i+1):\n",
    "            if array[k]>array[Max_position]:\n",
    "                Max_position = k\n",
    "\n",
    "        temp = array[i]\n",
    "        array[i] = array[Max_position]\n",
    "        array[Max_position] = temp"
   ]
  },
  {
   "cell_type": "code",
   "execution_count": 26,
   "metadata": {},
   "outputs": [
    {
     "name": "stdout",
     "output_type": "stream",
     "text": [
      "[3, 4, 14, 17, 19, 50, 66, 137, 193]\n"
     ]
    }
   ],
   "source": [
    "array = [14,66,193,17,137,3,4,50,19]\n",
    "selectionSort(array)\n",
    "print(array)"
   ]
  },
  {
   "cell_type": "markdown",
   "metadata": {},
   "source": [
    "# Quick Sort"
   ]
  },
  {
   "cell_type": "markdown",
   "metadata": {},
   "source": [
    "In Quick sort, the array is reduced to sub-arrays that are partially sorted finalizing the entire sorting. First, partition the array. To partition the array, you need a pivot to compare all the elements in the array. Pivot's role is that it helps us splitting the list. Usually, you can pick the first item as your pivot but that is not required. The ideal position of the pivot value in the final sorted list is called the split point, which is used to divide the list subsequently.\n",
    "\n",
    "In sum, find the split point and move other elements simultaneously to the appropriate side of the list (less than or greater than the pivot)."
   ]
  },
  {
   "cell_type": "code",
   "execution_count": 27,
   "metadata": {},
   "outputs": [],
   "source": [
    "\"\"\" Code from Baka (2017,p.217-218)\"\"\"\n",
    "def partition(unsorted_array, first_index, last_index): #  it returns the partition point => lesser elements < pivot < greater elements\n",
    "\n",
    "    pivot = unsorted_array[first_index] # choose the first item as your pivot\n",
    "    pivot_index = first_index # store pivot's index\n",
    "    index_of_last_element = last_index # store last item's index\n",
    "\n",
    "    less_than_pivot_index = index_of_last_element # The index of item (last element) where we start looking for the item that is less than pivot\n",
    "    greater_than_pivot_index = first_index + 1 # The index of the next item to the pivot, where we start looking for the item in the array that is greater than pivot than the\n",
    "\n",
    "    while True:\n",
    "\n",
    "        while unsorted_array[greater_than_pivot_index] < pivot and greater_than_pivot_index < last_index: #he search for the element greater than the pivot\n",
    "            greater_than_pivot_index += 1\n",
    "        while unsorted_array[less_than_pivot_index] > pivot and less_than_pivot_index >= first_index: #moves one index at a time to the left, until it reaches a value < pivot\n",
    "            less_than_pivot_index -= 1\n",
    "\n",
    "        if greater_than_pivot_index < less_than_pivot_index: # If greater_than_pivot_index < less_than_pivot_index,\n",
    "            temp = unsorted_array[greater_than_pivot_index]\n",
    "            unsorted_array[greater_than_pivot_index] = unsorted_array[less_than_pivot_index] #swaps the element at those indexes.\n",
    "            unsorted_array[less_than_pivot_index] = temp\n",
    "        else:\n",
    "            break #  breaks the infinite loop any time greater_than_pivot_index becomes greater than less_than_pivot_index.\n",
    "\n",
    "    unsorted_array[pivot_index] = unsorted_array[less_than_pivot_index]\n",
    "    unsorted_array[less_than_pivot_index] = pivot\n",
    "\n",
    "    return less_than_pivot_index\n",
    "\n",
    "\n",
    "def quick_sort(unsorted_array, first, last):\n",
    "    if last - first <= 0:\n",
    "        return\n",
    "    else:\n",
    "        partition_point = partition(unsorted_array, first, last)\n",
    "        quick_sort(unsorted_array, first, partition_point-1)\n",
    "        quick_sort(unsorted_array, partition_point+1, last)"
   ]
  },
  {
   "cell_type": "code",
   "execution_count": 28,
   "metadata": {},
   "outputs": [
    {
     "name": "stdout",
     "output_type": "stream",
     "text": [
      "[43, 3, 77, 89, 4, 20]\n",
      "[3, 4, 20, 43, 77, 89]\n"
     ]
    }
   ],
   "source": [
    "A = [43, 3, 77, 89, 4, 20]\n",
    "print(A)\n",
    "quick_sort(A, 0, 5)\n",
    "print(A)"
   ]
  },
  {
   "cell_type": "markdown",
   "metadata": {},
   "source": [
    "# Merge sort"
   ]
  },
  {
   "cell_type": "markdown",
   "metadata": {},
   "source": [
    "Merge sort is a divide-and-conquer algorithm that recursively splits a list in half. If the list is empty or has one item, it is sorted and it becomes the base case. \n",
    "\n",
    "(1) Split the list into two halves.\n",
    "\n",
    "(2) Continue to divide the two halves recursively until sub-halves eventually contain only one element. \n",
    "\n",
    "(3) Begin to merge"
   ]
  },
  {
   "cell_type": "code",
   "execution_count": 31,
   "metadata": {},
   "outputs": [
    {
     "name": "stdout",
     "output_type": "stream",
     "text": [
      "Split  [54, 26, 93, 17, 77, 31, 44, 55, 20]\n",
      "Split  [54, 26, 93, 17]\n",
      "Split  [54, 26]\n",
      "Split  [54]\n",
      "Merge  [54]\n",
      "Split  [26]\n",
      "Merge  [26]\n",
      "Merge  [26, 54]\n",
      "Split  [93, 17]\n",
      "Split  [93]\n",
      "Merge  [93]\n",
      "Split  [17]\n",
      "Merge  [17]\n",
      "Merge  [17, 93]\n",
      "Merge  [17, 26, 54, 93]\n",
      "Split  [77, 31, 44, 55, 20]\n",
      "Split  [77, 31]\n",
      "Split  [77]\n",
      "Merge  [77]\n",
      "Split  [31]\n",
      "Merge  [31]\n",
      "Merge  [31, 77]\n",
      "Split  [44, 55, 20]\n",
      "Split  [44]\n",
      "Merge  [44]\n",
      "Split  [55, 20]\n",
      "Split  [55]\n",
      "Merge  [55]\n",
      "Split  [20]\n",
      "Merge  [20]\n",
      "Merge  [20, 55]\n",
      "Merge  [20, 44, 55]\n",
      "Merge  [20, 31, 44, 55, 77]\n",
      "Merge  [17, 20, 26, 31, 44, 54, 55, 77, 93]\n",
      "[17, 20, 26, 31, 44, 54, 55, 77, 93]\n"
     ]
    }
   ],
   "source": [
    "def mergeSort(array):\n",
    "    print(\"Split \",array)\n",
    "    if len(array)>1:\n",
    "        mid_point = len(array)//2\n",
    "        left_part = array[:mid_point]\n",
    "        right_part = array[mid_point:]\n",
    "\n",
    "        mergeSort(left_part)\n",
    "        mergeSort(right_part)  # until now, it splits until reaching one element in sub-arrays.\n",
    "\n",
    "        i, j, k = 0,0,0\n",
    "        while i < len(left_part) and j < len(right_part):\n",
    "            if left_part[i] < right_part[j]:  # Compare first indices of each part\n",
    "                array[k]=left_part[i] # assign the smaller left part's ith value to the ith index of the array\n",
    "                i=i+1\n",
    "            else:\n",
    "                array[k]=right_part[j] # assign the larger right part's jth value to the jth index of the array\n",
    "                j=j+1\n",
    "            k=k+1\n",
    "\n",
    "        while i < len(left_part): # in case any item is left behind\n",
    "            array[k]=left_part[i]\n",
    "            i=i+1\n",
    "            k=k+1\n",
    "\n",
    "        while j < len(right_part): # in case any item is left behind\n",
    "            array[k]=right_part[j]\n",
    "            j=j+1\n",
    "            k=k+1\n",
    "    print(\"Merge \",array)\n",
    "\n",
    "array = [54,26,93,17,77,31,44,55,20]\n",
    "mergeSort(array)\n",
    "print(array)"
   ]
  }
 ],
 "metadata": {
  "kernelspec": {
   "display_name": "Python 3",
   "language": "python",
   "name": "python3"
  },
  "language_info": {
   "codemirror_mode": {
    "name": "ipython",
    "version": 3
   },
   "file_extension": ".py",
   "mimetype": "text/x-python",
   "name": "python",
   "nbconvert_exporter": "python",
   "pygments_lexer": "ipython3",
   "version": "3.7.0"
  }
 },
 "nbformat": 4,
 "nbformat_minor": 2
}
