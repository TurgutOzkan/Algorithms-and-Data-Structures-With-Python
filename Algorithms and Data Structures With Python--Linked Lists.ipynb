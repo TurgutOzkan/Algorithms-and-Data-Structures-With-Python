{
 "cells": [
  {
   "cell_type": "markdown",
   "metadata": {},
   "source": [
    "# Python Linked List"
   ]
  },
  {
   "cell_type": "code",
   "execution_count": 1,
   "metadata": {},
   "outputs": [],
   "source": [
    "class Node: \n",
    "    \n",
    "    def __init__(self, data): \n",
    "        self.data = data  # Assign data \n",
    "        self.next = None  # # This points to the next element, which is null for now.\n",
    "        \n",
    "class LinkedList: \n",
    "  \n",
    "    def __init__(self): \n",
    "        self.head = None\n",
    "           \n",
    "    def is_empty(self):\n",
    "        return self.head is None\n",
    "    \n",
    "    def add(self, item):\n",
    "        temp = Node(item)     # create a node (containing the data) living by itself.\n",
    "        temp.next = self.head # connect the node to the first node so you do not lose the remaining nodes.\n",
    "        self.head = temp\n",
    "        \n",
    "    def search(self, item):\n",
    "        current = self.head  # use current to traverse\n",
    "\n",
    "        while current is not None:  # this means visiting each node until you find None--i.e, end of the list\n",
    "            if current.data == item: # if the value is in a certain node you are visiting\n",
    "                return True\n",
    "            current = current.next  # if you have not found the value, go to the next node.\n",
    "\n",
    "        return False      # after visiting all nodes and still not found, return False\n",
    "    \n",
    "    def remove(self, item):\n",
    "        current = self.head\n",
    "        previous = None        # previous node is none when we consider the first node (there is no previous one)\n",
    "\n",
    "        while True:             \n",
    "            if current.data == item:  # you found the value so the first process is done. Now onto the removing process.\n",
    "                break\n",
    "            previous, current = current, current.next # you have not found it so proceed by updating your current and prev\n",
    "\n",
    "        if previous is None:        # If the value we are looking is in the current node (previous remained as none) \n",
    "            self.head = current.next # then let's assign the \"head\" status to the next node to remove it.\n",
    "        else:\n",
    "            previous.next = current.next #Otherwise, that means #both previous and current nodes are in the list so we wil\n",
    "            \n",
    "    def size(self):\n",
    "        current = self.head # use current to traverse\n",
    "        count = 0\n",
    "        while current is not None: # traversing until the current reference reach the end by seeing None\n",
    "            count = count + 1 \n",
    "            current = current.next # move the current to the next node \n",
    "\n",
    "        return count # this gives the size\n",
    "    \n",
    "    def print_list(self):\n",
    "        current_node = self.head\n",
    "        while current_node:\n",
    "            print(current_node.data)\n",
    "            current_node = current_node.next\n",
    "            "
   ]
  },
  {
   "cell_type": "code",
   "execution_count": 2,
   "metadata": {},
   "outputs": [
    {
     "data": {
      "text/plain": [
       "<__main__.LinkedList at 0x1965edaa978>"
      ]
     },
     "execution_count": 2,
     "metadata": {},
     "output_type": "execute_result"
    }
   ],
   "source": [
    "#create an empty linked list\n",
    "linked_list = LinkedList() \n",
    "linked_list"
   ]
  },
  {
   "cell_type": "code",
   "execution_count": 3,
   "metadata": {},
   "outputs": [
    {
     "data": {
      "text/plain": [
       "True"
      ]
     },
     "execution_count": 3,
     "metadata": {},
     "output_type": "execute_result"
    }
   ],
   "source": [
    "# Check if linked list is empty\n",
    "linked_list.is_empty()"
   ]
  },
  {
   "cell_type": "code",
   "execution_count": 4,
   "metadata": {},
   "outputs": [
    {
     "data": {
      "text/plain": [
       "True"
      ]
     },
     "execution_count": 4,
     "metadata": {},
     "output_type": "execute_result"
    }
   ],
   "source": [
    "# Add nodes\n",
    "linked_list.add(5)\n",
    "linked_list.add(3)\n",
    "linked_list.add(7)\n",
    "linked_list.add(4)\n",
    "linked_list.search(5)"
   ]
  },
  {
   "cell_type": "code",
   "execution_count": 5,
   "metadata": {},
   "outputs": [
    {
     "name": "stdout",
     "output_type": "stream",
     "text": [
      "False\n"
     ]
    }
   ],
   "source": [
    "linked_list.remove(5)\n",
    "print(linked_list.search(5))"
   ]
  },
  {
   "cell_type": "code",
   "execution_count": 6,
   "metadata": {},
   "outputs": [
    {
     "name": "stdout",
     "output_type": "stream",
     "text": [
      "4\n",
      "7\n",
      "3\n"
     ]
    }
   ],
   "source": [
    "# Printing the linked list\n",
    "linked_list.print_list()"
   ]
  },
  {
   "cell_type": "code",
   "execution_count": 7,
   "metadata": {},
   "outputs": [
    {
     "data": {
      "text/plain": [
       "3"
      ]
     },
     "execution_count": 7,
     "metadata": {},
     "output_type": "execute_result"
    }
   ],
   "source": [
    "# Getting the size of the linked list\n",
    "linked_list.size()"
   ]
  }
 ],
 "metadata": {
  "kernelspec": {
   "display_name": "Python 3",
   "language": "python",
   "name": "python3"
  },
  "language_info": {
   "codemirror_mode": {
    "name": "ipython",
    "version": 3
   },
   "file_extension": ".py",
   "mimetype": "text/x-python",
   "name": "python",
   "nbconvert_exporter": "python",
   "pygments_lexer": "ipython3",
   "version": "3.7.0"
  }
 },
 "nbformat": 4,
 "nbformat_minor": 2
}
