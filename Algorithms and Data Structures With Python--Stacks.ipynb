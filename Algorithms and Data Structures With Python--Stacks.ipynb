{
 "cells": [
  {
   "cell_type": "markdown",
   "metadata": {},
   "source": [
    "\"\"\"\n",
    "A stack is an ordered collection of items where the addition or the removal of items occurs at the top. The item that was included first is known as the base. The base of the stack is a significant thing to consider since items in the bottom of the stack are closer to the base and they stay in the stack longer time than those in upper positions. Consequently, the most recently added item is the one that is in a position to be removed first. This is called last in first out principle (LIFO)\n",
    "\n",
    "How to Implement?\n",
    "\n",
    "First, let's see the main functions used in a stack.\n",
    "\n",
    "(1) push: When an item is added to the top, it means it is pushed.\n",
    "\n",
    "(2) pop: When an item is taken off the top, it is popped.\n",
    "\n",
    "(3) peek: Seeing the element on the stack without popping it.\n",
    "\n",
    "A simple Python list can provide some of the above capabilities. For example:\n",
    "\n",
    "\"\"\""
   ]
  },
  {
   "cell_type": "code",
   "execution_count": 2,
   "metadata": {},
   "outputs": [
    {
     "name": "stdout",
     "output_type": "stream",
     "text": [
      "7\n",
      "None\n",
      "[1, 4, 5, 5, 47]\n"
     ]
    }
   ],
   "source": [
    "x=[1,4,5,5,7]\n",
    "print(x.pop()) # works the same as \"pop\" for stacks\n",
    "print(x.append(47)) # can be used like \"push\" for stacks\n",
    "print(x)"
   ]
  },
  {
   "cell_type": "markdown",
   "metadata": {},
   "source": [
    "Class Implementation"
   ]
  },
  {
   "cell_type": "code",
   "execution_count": 4,
   "metadata": {},
   "outputs": [],
   "source": [
    "class Node:\n",
    "    def __init__(self, data=None):\n",
    "        self.data = data\n",
    "        self.next = None\n",
    "        \n",
    "class Stack:\n",
    "    def __init__(self): \n",
    "        self.top = None\n",
    "        self.size = 0\n",
    "        \n",
    "    def push(self, data): #  adds an element to the top of the stack.\n",
    "        node = Node(data)\n",
    "        if self.top: # if we have an existing stack, self.top points to the newly created node.\n",
    "            node.next = self.top #The new node must have its next pointer, pointing to the node that was the top node\n",
    "            self.top = node\n",
    "        else:\n",
    "            self.top = node # if there's no existing node after creating the new node, self.top will point to this new node.\n",
    "        self.size += 1\n",
    "    \n",
    "    def pop(self):\n",
    "        if self.top:\n",
    "            data = self.top.data\n",
    "            self.size -= 1\n",
    "            if self.top.next: # If the top node pointing to another node,set the top of the stack to now point to that node\n",
    "                self.top = self.top.next\n",
    "            else:\n",
    "                self.top = None\n",
    "            return data\n",
    "        else:\n",
    "            return None\n",
    "        \n",
    "    def peek(self):\n",
    "        if self.top:\n",
    "            return self.top.data\n",
    "        else:\n",
    "            return None"
   ]
  },
  {
   "cell_type": "code",
   "execution_count": 6,
   "metadata": {},
   "outputs": [],
   "source": [
    "stack_1=Stack()\n",
    "stack_1.push(1)\n",
    "stack_1.push(2)\n",
    "stack_1.push(3)"
   ]
  },
  {
   "cell_type": "code",
   "execution_count": 8,
   "metadata": {},
   "outputs": [
    {
     "data": {
      "text/plain": [
       "3"
      ]
     },
     "execution_count": 8,
     "metadata": {},
     "output_type": "execute_result"
    }
   ],
   "source": [
    "stack_1.peek()"
   ]
  },
  {
   "cell_type": "code",
   "execution_count": 9,
   "metadata": {},
   "outputs": [
    {
     "data": {
      "text/plain": [
       "3"
      ]
     },
     "execution_count": 9,
     "metadata": {},
     "output_type": "execute_result"
    }
   ],
   "source": [
    "stack_1.pop()"
   ]
  },
  {
   "cell_type": "code",
   "execution_count": 10,
   "metadata": {},
   "outputs": [
    {
     "data": {
      "text/plain": [
       "2"
      ]
     },
     "execution_count": 10,
     "metadata": {},
     "output_type": "execute_result"
    }
   ],
   "source": [
    "stack_1.peek() # since 3 is popped, 2 will be shown here."
   ]
  },
  {
   "cell_type": "markdown",
   "metadata": {},
   "source": [
    "Alternatively:"
   ]
  },
  {
   "cell_type": "code",
   "execution_count": 12,
   "metadata": {},
   "outputs": [],
   "source": [
    "class Stack:\n",
    "    def __init__(self):\n",
    "        self.items = []\n",
    "\n",
    "    def isEmpty(self):\n",
    "        return self.items == []\n",
    "\n",
    "    def push(self, item):\n",
    "        self.items.append(item)\n",
    "\n",
    "    def pop(self):\n",
    "        return self.items.pop()\n",
    "\n",
    "    def peek(self):\n",
    "        return self.items[len(self.items)-1]\n",
    "\n",
    "    def size(self):\n",
    "        return len(self.items)\n"
   ]
  },
  {
   "cell_type": "code",
   "execution_count": 13,
   "metadata": {},
   "outputs": [],
   "source": [
    "stack_2=Stack()\n",
    "stack_2.push(12)\n",
    "stack_2.push(23)\n",
    "stack_2.push(223)"
   ]
  },
  {
   "cell_type": "code",
   "execution_count": 14,
   "metadata": {},
   "outputs": [
    {
     "data": {
      "text/plain": [
       "223"
      ]
     },
     "execution_count": 14,
     "metadata": {},
     "output_type": "execute_result"
    }
   ],
   "source": [
    "stack_2.peek()"
   ]
  },
  {
   "cell_type": "code",
   "execution_count": 15,
   "metadata": {},
   "outputs": [
    {
     "data": {
      "text/plain": [
       "223"
      ]
     },
     "execution_count": 15,
     "metadata": {},
     "output_type": "execute_result"
    }
   ],
   "source": [
    "stack_2.pop()"
   ]
  },
  {
   "cell_type": "code",
   "execution_count": 16,
   "metadata": {},
   "outputs": [
    {
     "data": {
      "text/plain": [
       "23"
      ]
     },
     "execution_count": 16,
     "metadata": {},
     "output_type": "execute_result"
    }
   ],
   "source": [
    "stack_2.peek()"
   ]
  }
 ],
 "metadata": {
  "kernelspec": {
   "display_name": "Python 3",
   "language": "python",
   "name": "python3"
  },
  "language_info": {
   "codemirror_mode": {
    "name": "ipython",
    "version": 3
   },
   "file_extension": ".py",
   "mimetype": "text/x-python",
   "name": "python",
   "nbconvert_exporter": "python",
   "pygments_lexer": "ipython3",
   "version": "3.7.0"
  }
 },
 "nbformat": 4,
 "nbformat_minor": 2
}
